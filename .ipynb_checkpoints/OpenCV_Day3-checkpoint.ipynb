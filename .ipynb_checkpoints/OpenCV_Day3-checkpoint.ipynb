{
 "cells": [
  {
   "cell_type": "code",
   "execution_count": 3,
   "metadata": {
    "collapsed": true
   },
   "outputs": [],
   "source": [
    "import numpy as np\n",
    "import cv2"
   ]
  },
  {
   "cell_type": "markdown",
   "metadata": {
    "collapsed": true
   },
   "source": [
    "## Contours\n",
    "\n",
    "Basically, lines that connect regions with the same color.....\n",
    "<br>\n",
    "Lets try this on a simple image......but a grayscaled one....."
   ]
  },
  {
   "cell_type": "code",
   "execution_count": 4,
   "metadata": {
    "collapsed": true
   },
   "outputs": [],
   "source": [
    "image = cv2.imread('py.jpg')\n",
    "gray = cv2.cvtColor(image,cv2.COLOR_BGR2GRAY)\n",
    "contours,_ = cv2.findContours(gray,cv2.RETR_TREE, cv2.CHAIN_APPROX_SIMPLE)"
   ]
  },
  {
   "cell_type": "markdown",
   "metadata": {},
   "source": [
    "After printing the 'contours' variable, what do think you'll see.<br>\n",
    "Let me spoil it for you, it a collections of arrays. And those arrays have points that are to be connected to make one of the many contours.\n",
    "<br>Lets draw 'em...."
   ]
  },
  {
   "cell_type": "code",
   "execution_count": 5,
   "metadata": {},
   "outputs": [],
   "source": [
    "cv2.drawContours(image,contours,-1,(255,0,0),3)\n",
    "# The third arg is for the index. -1 means all of them......\n",
    "cv2.imshow(\"Contours\",image)\n",
    "cv2.waitKey()\n",
    "cv2.destroyAllWindows()"
   ]
  },
  {
   "cell_type": "markdown",
   "metadata": {},
   "source": [
    "### Features of contours.....\n",
    "The first one....moments.\n",
    "<br> Basically, 3 points that can be used to tell many things about the image......\n",
    "<br>Example (m01/m00, m10/m00) is the center of that image....see....easy! "
   ]
  },
  {
   "cell_type": "code",
   "execution_count": 6,
   "metadata": {
    "collapsed": true
   },
   "outputs": [],
   "source": [
    "#Lets pick up the largest one \n",
    "cnt = max(contours[1:],key = cv2.contourArea)"
   ]
  },
  {
   "cell_type": "code",
   "execution_count": 7,
   "metadata": {},
   "outputs": [
    {
     "data": {
      "text/plain": [
       "192670.5"
      ]
     },
     "execution_count": 7,
     "metadata": {},
     "output_type": "execute_result"
    }
   ],
   "source": [
    "cv2.contourArea(cnt)"
   ]
  },
  {
   "cell_type": "markdown",
   "metadata": {},
   "source": [
    "<b> Wondering which one it is...?"
   ]
  },
  {
   "cell_type": "code",
   "execution_count": 10,
   "metadata": {},
   "outputs": [],
   "source": [
    "image = cv2.imread('py.jpg')\n",
    "cv2.drawContours(image,[cnt],-1,(255,0,0),3)\n",
    "# The third arg is for the index. -1 means all of them......\n",
    "cv2.imshow(\"Contours\",image)\n",
    "cv2.waitKey()\n",
    "cv2.destroyAllWindows()"
   ]
  },
  {
   "cell_type": "markdown",
   "metadata": {},
   "source": [
    "<b>That one.......</b>\n",
    "<br><br>\n",
    "Now, these contours can be used to detect the position of an object using its mask made using the filters."
   ]
  },
  {
   "cell_type": "code",
   "execution_count": 11,
   "metadata": {
    "collapsed": true
   },
   "outputs": [],
   "source": [
    "cap = cv2.VideoCapture(0)\n",
    "\n",
    "while True:\n",
    "    #Recording the video\n",
    "    _,frame = cap.read()\n",
    "    #Making the hsv image\n",
    "    hsv = cv2.cvtColor(frame,cv2.COLOR_BGR2HSV)\n",
    "    #The color range for that red spool up there.....\n",
    "    lower_red = np.array([0,150,20])\n",
    "    upper_red = np.array([15,255,255])\n",
    "    #Generating the mask\n",
    "    mask = cv2.inRange(hsv,lower_red,upper_red)\n",
    "    #Some erossion and dialation\n",
    "    mask = cv2.erode(mask,None,iterations=2)\n",
    "    #Lets find the contour for the mask\n",
    "    contours,_ = cv2.findContours(mask,cv2.RETR_TREE, cv2.CHAIN_APPROX_SIMPLE)\n",
    "    if len(contours) > 0:\n",
    "        for c in contours:\n",
    "            if cv2.contourArea(c) > 500:\n",
    "                #Getting the bounding rectangle\n",
    "                x,y,w,h = cv2.boundingRect(c)\n",
    "                #Drawing the bounding rectangle\n",
    "                cv2.rectangle(frame,(x,y),(x+w,y+h),(0,255,0),2)\n",
    "\n",
    "\n",
    "    #Lets see what we have got here\n",
    "    #cv2.imshow(\"Video\",frame)\n",
    "    cv2.imshow(\"Video2\",mask)\n",
    "    if cv2.waitKey(1) & 0xFF == ord('q'):  \n",
    "        break\n",
    "    #Press q to exit from camera\n",
    "    \n",
    "cap.release()  #Release the camera (necessary)\n",
    "cv2.destroyAllWindows()"
   ]
  },
  {
   "cell_type": "markdown",
   "metadata": {},
   "source": [
    "### Now lets use this contour logic........\n",
    "<br>\n",
    "Let us try to make the mouse cursor move using the object....<br>"
   ]
  },
  {
   "cell_type": "code",
   "execution_count": 12,
   "metadata": {
    "collapsed": true
   },
   "outputs": [],
   "source": [
    "import pyautogui"
   ]
  },
  {
   "cell_type": "code",
   "execution_count": 13,
   "metadata": {
    "collapsed": true
   },
   "outputs": [],
   "source": [
    "cap = cv2.VideoCapture(0)\n",
    "\n",
    "while True:\n",
    "    #Recording the video\n",
    "    _,frame = cap.read()\n",
    "    #Resize the mask to the size of your screen\n",
    "    frame = cv2.flip(cv2.resize(frame,(1366,768)),1)\n",
    "    #Making the hsv image\n",
    "    hsv = cv2.cvtColor(frame,cv2.COLOR_BGR2HSV)\n",
    "    #The color range for that red spool up there.....\n",
    "    lower_red = np.array([0,150,20])\n",
    "    upper_red = np.array([10,255,255])\n",
    "    #Generating the mask\n",
    "    mask = cv2.inRange(hsv,lower_red,upper_red)\n",
    "    #Some erossion and dialation\n",
    "    mask = cv2.erode(mask,None,iterations=2)\n",
    "\n",
    "    #Lets find the contour for the mask\n",
    "    contours,_ = cv2.findContours(mask,cv2.RETR_TREE, cv2.CHAIN_APPROX_SIMPLE)\n",
    "    if len(contours) > 0:\n",
    "        for c in contours:\n",
    "            if cv2.contourArea(c) > 600:\n",
    "                #Getting the bounding rectangle\n",
    "                x,y,w,h = cv2.boundingRect(c)\n",
    "                #Drawing the bounding rectangle\n",
    "                cv2.rectangle(frame,(x,y),(x+w,y+h),(0,255,0),2)\n",
    "                #Getting the moments\n",
    "                m = cv2.moments(c)\n",
    "                #moving mouse to the centroid\n",
    "                pyautogui.moveTo(int(m['m10']/m['m00']),int(m['m01']/m['m00']))\n",
    "\n",
    "\n",
    "    #Lets see what we have got here\n",
    "    #cv2.imshow(\"Video\",frame)\n",
    "    cv2.imshow(\"Video\",frame)\n",
    "    if cv2.waitKey(1) & 0xFF == ord('q'):  \n",
    "        break\n",
    "    #Press q to exit from camera\n",
    "    \n",
    "cap.release()  #Release the camera (necessary)\n",
    "cv2.destroyAllWindows()"
   ]
  },
  {
   "cell_type": "markdown",
   "metadata": {},
   "source": [
    "## Convex Hull\n",
    "These are used to fix convexity defects......but, what are convexity defects.....\n",
    "<br><br>\n",
    "First, what is convexity. It is the tendency to bulge out. So defects are the opposite.<br>\n",
    "Lets take the previous examples...."
   ]
  },
  {
   "cell_type": "code",
   "execution_count": 18,
   "metadata": {},
   "outputs": [],
   "source": [
    "image = cv2.imread('py.jpg')\n",
    "gray = cv2.cvtColor(image,cv2.COLOR_BGR2GRAY)\n",
    "contours,_ = cv2.findContours(gray,cv2.RETR_TREE, cv2.CHAIN_APPROX_SIMPLE)\n",
    "#Lets pick up the largest one \n",
    "cnt = max(contours[1:],key = cv2.contourArea)\n",
    "cv2.drawContours(image,[cnt],-1,(255,0,0),3)\n",
    "# Drawing the largest contour\n",
    "cv2.imshow(\"Contours\",image)\n",
    "cv2.waitKey()\n",
    "cv2.destroyAllWindows()"
   ]
  },
  {
   "cell_type": "markdown",
   "metadata": {},
   "source": [
    "Notice the curves going inside.<br>\n",
    "Let's find the hull now...."
   ]
  },
  {
   "cell_type": "code",
   "execution_count": null,
   "metadata": {
    "collapsed": true
   },
   "outputs": [],
   "source": [
    "image = cv2.imread('py.jpg')\n",
    "hull= cv2.convexHull(cnt)\n",
    "#Drawing the hull"
   ]
  },
  {
   "cell_type": "markdown",
   "metadata": {},
   "source": [
    "## Foreground extraction"
   ]
  },
  {
   "cell_type": "code",
   "execution_count": null,
   "metadata": {
    "collapsed": true
   },
   "outputs": [],
   "source": []
  }
 ],
 "metadata": {
  "kernelspec": {
   "display_name": "Python 3",
   "language": "python",
   "name": "python3"
  },
  "language_info": {
   "codemirror_mode": {
    "name": "ipython",
    "version": 3
   },
   "file_extension": ".py",
   "mimetype": "text/x-python",
   "name": "python",
   "nbconvert_exporter": "python",
   "pygments_lexer": "ipython3",
   "version": "3.6.3"
  }
 },
 "nbformat": 4,
 "nbformat_minor": 2
}
