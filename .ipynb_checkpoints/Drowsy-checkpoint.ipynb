{
 "cells": [
  {
   "cell_type": "code",
   "execution_count": 44,
   "metadata": {
    "collapsed": true
   },
   "outputs": [],
   "source": [
    "from scipy.spatial import distance\n",
    "import imutils\n",
    "import dlib\n",
    "import cv2"
   ]
  },
  {
   "cell_type": "code",
   "execution_count": 35,
   "metadata": {
    "collapsed": true
   },
   "outputs": [],
   "source": [
    "def eye_aspect_ratio(eye):\n",
    "    \n",
    "    A = distance.euclidean(eye[1], eye[5])\n",
    "    B = distance.euclidean(eye[2], eye[4])\n",
    "    C = distance.euclidean(eye[0], eye[3])\n",
    "    \n",
    "    ear = (A + B)/(2.0 * C)\n",
    "    return ear"
   ]
  },
  {
   "cell_type": "code",
   "execution_count": 36,
   "metadata": {
    "collapsed": true
   },
   "outputs": [],
   "source": [
    "detect = dlib.get_frontal_face_detector()\n",
    "predict = dlib.shape_predictor(\"shape_predictor_68_face_landmarks.dat\")"
   ]
  },
  {
   "cell_type": "code",
   "execution_count": 37,
   "metadata": {
    "collapsed": true
   },
   "outputs": [],
   "source": [
    "frames_pass = 10\n",
    "thresh = 0.25"
   ]
  },
  {
   "cell_type": "code",
   "execution_count": 38,
   "metadata": {
    "collapsed": true
   },
   "outputs": [],
   "source": [
    "(lstart, lend) = face_utils.FACIAL_LANDMARKS_IDXS[\"left_eye\"]\n",
    "(rstart, rend) = face_utils.FACIAL_LANDMARKS_IDXS[\"right_eye\"]"
   ]
  },
  {
   "cell_type": "code",
   "execution_count": 43,
   "metadata": {
    "collapsed": true
   },
   "outputs": [],
   "source": [
    "cam = cv2.VideoCapture(0)\n",
    "flag = 0\n",
    "while True:\n",
    "    \n",
    "    _, frame = cam.read()\n",
    "    \n",
    "    frame = cv2.flip(frame, 1)\n",
    "    #frame = imutils.resize(frame, width = 450)\n",
    "    \n",
    "    gray = cv2.cvtColor(frame, cv2.COLOR_BGR2GRAY)\n",
    "    faces = detect(gray)\n",
    "    \n",
    "    for face in faces:\n",
    "        \n",
    "        face = predict(gray, face)\n",
    "        face = face_utils.shape_to_np(face)\n",
    "        leftEye = face[lstart:lend]\n",
    "        rightEye = face[rstart:rend]\n",
    "        \n",
    "        leftEar = eye_aspect_ratio(leftEye)\n",
    "        rightEar = eye_aspect_ratio(rightEye)\n",
    "        \n",
    "        ear = (leftEar + rightEar)/2.0\n",
    "        \n",
    "        left_conv = cv2.convexHull(leftEye)\n",
    "        right_conv = cv2.convexHull(rightEye)\n",
    "        \n",
    "        cv2.drawContours(frame, [left_conv], -1, (0, 255, 0), 1)\n",
    "        cv2.drawContours(frame, [right_conv], -1, (0, 255, 0), 1)\n",
    "        \n",
    "        if ear < thresh:\n",
    "            flag += 1\n",
    "            \n",
    "            if flag > frames_pass:\n",
    "                \n",
    "                cv2.putText(frame, \"********ALERT*********\",\n",
    "                           (10, 30), cv2.FONT_HERSHEY_COMPLEX, 0.7, (0, 0, 255), 2)\n",
    "                cv2.putText(frame, \"YOU ARE DROWSY\",\n",
    "                           (10, 324), cv2.FONT_HERSHEY_COMPLEX, 0.7, (0, 0, 255), 2)\n",
    "        \n",
    "            else:\n",
    "                cv2.putText(frame, \"AWAKE!!!\",\n",
    "                           (10, 324), cv2.FONT_HERSHEY_COMPLEX, 0.7, (0, 0, 255), 2)\n",
    "\n",
    "        \n",
    "        else:\n",
    "            flag = 0\n",
    "            \n",
    "    cv2.imshow(\"Live\", frame)\n",
    "   \n",
    "    if cv2.waitKey(1) & 0xFF == ord('q'):\n",
    "        break\n",
    "        \n",
    "cam.release()\n",
    "cv2.destroyAllWindows()"
   ]
  },
  {
   "cell_type": "code",
   "execution_count": null,
   "metadata": {
    "collapsed": true
   },
   "outputs": [],
   "source": []
  },
  {
   "cell_type": "code",
   "execution_count": null,
   "metadata": {
    "collapsed": true
   },
   "outputs": [],
   "source": []
  }
 ],
 "metadata": {
  "kernelspec": {
   "display_name": "Python 3",
   "language": "python",
   "name": "python3"
  },
  "language_info": {
   "codemirror_mode": {
    "name": "ipython",
    "version": 3
   },
   "file_extension": ".py",
   "mimetype": "text/x-python",
   "name": "python",
   "nbconvert_exporter": "python",
   "pygments_lexer": "ipython3",
   "version": "3.6.3"
  }
 },
 "nbformat": 4,
 "nbformat_minor": 2
}
