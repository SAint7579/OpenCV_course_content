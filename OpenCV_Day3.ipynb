{
 "cells": [
  {
   "cell_type": "code",
   "execution_count": 112,
   "metadata": {
    "collapsed": true
   },
   "outputs": [],
   "source": [
    "import numpy as np\n",
    "import cv2"
   ]
  },
  {
   "cell_type": "markdown",
   "metadata": {
    "collapsed": true
   },
   "source": [
    "## Contours\n",
    "\n",
    "Basically, lines that connect regions with the same color.....\n",
    "<br>\n",
    "Lets try this on a simple image......but a grayscaled one....."
   ]
  },
  {
   "cell_type": "code",
   "execution_count": 175,
   "metadata": {
    "collapsed": true
   },
   "outputs": [],
   "source": [
    "image = cv2.imread('py.jpg')\n",
    "gray = cv2.cvtColor(image,cv2.COLOR_BGR2GRAY)\n",
    "contours,_ = cv2.findContours(gray,cv2.RETR_TREE, cv2.CHAIN_APPROX_SIMPLE)"
   ]
  },
  {
   "cell_type": "markdown",
   "metadata": {},
   "source": [
    "After printing the 'contours' variable, what do think you'll see.<br>\n",
    "Let me spoil it for you, it a collections of arrays. And those arrays have points that are to be connected to make one of the many contours.\n",
    "<br>Lets draw 'em...."
   ]
  },
  {
   "cell_type": "code",
   "execution_count": 176,
   "metadata": {
    "collapsed": true
   },
   "outputs": [],
   "source": [
    "cv2.drawContours(image,contours,-1,(255,0,0),3)\n",
    "# The third arg is for the index. -1 means all of them......\n",
    "cv2.imshow(\"Contours\",image)\n",
    "cv2.waitKey()\n",
    "cv2.destroyAllWindows()"
   ]
  },
  {
   "cell_type": "markdown",
   "metadata": {},
   "source": [
    "### Features of contours.....\n",
    "The first one....moments.\n",
    "<br> Basically, 3 points that can be used to tell many things about the image......\n",
    "<br>Example (m01/m00, m10/m00) is the center of that image....see....easy! "
   ]
  },
  {
   "cell_type": "code",
   "execution_count": 177,
   "metadata": {
    "collapsed": true
   },
   "outputs": [],
   "source": [
    "#Lets pick up the largest one \n",
    "cnt = max(contours[1:],key = cv2.contourArea)"
   ]
  },
  {
   "cell_type": "code",
   "execution_count": 178,
   "metadata": {},
   "outputs": [
    {
     "data": {
      "text/plain": [
       "192670.5"
      ]
     },
     "execution_count": 178,
     "metadata": {},
     "output_type": "execute_result"
    }
   ],
   "source": [
    "cv2.contourArea(cnt)"
   ]
  },
  {
   "cell_type": "markdown",
   "metadata": {},
   "source": [
    "<b> Wondering which one it is...?"
   ]
  },
  {
   "cell_type": "code",
   "execution_count": 179,
   "metadata": {
    "collapsed": true
   },
   "outputs": [],
   "source": [
    "image = cv2.imread('py.jpg')\n",
    "cv2.drawContours(image,[cnt],-1,(255,0,0),3)\n",
    "# The third arg is for the index. -1 means all of them......\n",
    "cv2.imshow(\"Contours\",image)\n",
    "cv2.waitKey()\n",
    "cv2.destroyAllWindows()"
   ]
  },
  {
   "cell_type": "markdown",
   "metadata": {},
   "source": [
    "<b>That one.......</b>\n",
    "<br><br>\n",
    "Now, these contours can be used to detect the position of an object using its mask made using the filters."
   ]
  },
  {
   "cell_type": "code",
   "execution_count": 142,
   "metadata": {
    "collapsed": true
   },
   "outputs": [],
   "source": [
    "cap = cv2.VideoCapture(0)\n",
    "\n",
    "while True:\n",
    "    #Recording the video\n",
    "    _,frame = cap.read()\n",
    "    #Making the hsv image\n",
    "    hsv = cv2.cvtColor(frame,cv2.COLOR_BGR2HSV)\n",
    "    #The color range for that red spool up there.....\n",
    "    lower_red = np.array([0,80,20])\n",
    "    upper_red = np.array([5,255,255])s\n",
    "    #Generating the mask\n",
    "    mask = cv2.inRange(hsv,lower_red,upper_red)\n",
    "    #Some erossion and dialation\n",
    "    mask = cv2.erode(mask,None,iterations=2)\n",
    "    #Lets find the contour for the mask\n",
    "    contours,_ = cv2.findContours(mask,cv2.RETR_TREE, cv2.CHAIN_APPROX_SIMPLE)\n",
    "    if len(contours) > 0:\n",
    "        for c in contours:\n",
    "            if cv2.contourArea(c) > 500:\n",
    "                #Getting the bounding rectangle\n",
    "                x,y,w,h = cv2.boundingRect(c)\n",
    "                #Drawing the bounding rectangle\n",
    "                cv2.rectangle(frame,(x,y),(x+w,y+h),(0,255,0),2)\n",
    "\n",
    "\n",
    "    #Lets see what we have got here\n",
    "    #cv2.imshow(\"Video\",frame)\n",
    "    cv2.imshow(\"Video2\",mask)\n",
    "    cv2.imshow(\"Video\",frame)\n",
    "    if cv2.waitKey(1) & 0xFF == ord('q'):  \n",
    "        break\n",
    "    #Press q to exit from camera\n",
    "    \n",
    "cap.release()  #Release the camera (necessary)\n",
    "cv2.destroyAllWindows()"
   ]
  },
  {
   "cell_type": "markdown",
   "metadata": {},
   "source": [
    "### Now lets use this contour logic........\n",
    "<br>\n",
    "Let us try to make the mouse cursor move using the object....<br>"
   ]
  },
  {
   "cell_type": "code",
   "execution_count": 143,
   "metadata": {
    "collapsed": true
   },
   "outputs": [],
   "source": [
    "import pyautogui"
   ]
  },
  {
   "cell_type": "code",
   "execution_count": 154,
   "metadata": {
    "collapsed": true
   },
   "outputs": [],
   "source": [
    "cap = cv2.VideoCapture(0)\n",
    "\n",
    "while True:\n",
    "    #Recording the video\n",
    "    _,frame = cap.read()\n",
    "    #Resize the mask to the size of your screen\n",
    "    frame = cv2.flip(cv2.resize(frame,(1366,768)),1)\n",
    "    #Making the hsv image\n",
    "    hsv = cv2.cvtColor(frame,cv2.COLOR_BGR2HSV)\n",
    "    #The color range for that red spool up there.....\n",
    "    lower_red = np.array([0,80,20])\n",
    "    upper_red = np.array([5,255,255])\n",
    "    #Generating the mask\n",
    "    mask = cv2.inRange(hsv,lower_red,upper_red)\n",
    "    #Some erossion and dialation\n",
    "    mask = cv2.erode(mask,None,iterations=2)\n",
    "\n",
    "    #Lets find the contour for the mask\n",
    "    contours,_ = cv2.findContours(mask,cv2.RETR_TREE, cv2.CHAIN_APPROX_SIMPLE)\n",
    "    if len(contours) > 0:\n",
    "        for c in contours:\n",
    "            if cv2.contourArea(c) > 600:\n",
    "                #Getting the bounding rectangle\n",
    "                x,y,w,h = cv2.boundingRect(c)\n",
    "                #Drawing the bounding rectangle\n",
    "                cv2.rectangle(frame,(x,y),(x+w,y+h),(0,255,0),2)\n",
    "                #Getting the moments\n",
    "                m = cv2.moments(c)\n",
    "                #moving mouse to the centroid\n",
    "                pyautogui.moveTo(int(m['m10']/m['m00']),int(m['m01']/m['m00']))\n",
    "\n",
    "\n",
    "    #Lets see what we have got here\n",
    "    #cv2.imshow(\"Video\",frame)\n",
    "    cv2.imshow(\"Video\",frame)\n",
    "    if cv2.waitKey(1) & 0xFF == ord('q'):  \n",
    "        break\n",
    "    #Press q to exit from camera\n",
    "    \n",
    "cap.release()  #Release the camera (necessary)\n",
    "cv2.destroyAllWindows()"
   ]
  },
  {
   "cell_type": "markdown",
   "metadata": {},
   "source": [
    "## Convex Hull\n",
    "These are used to fix convexity defects......but, what are convexity defects.....\n",
    "<br><br>\n",
    "First, what is convexity. It is the tendency to bulge out. So defects are the opposite.<br>\n",
    "Lets take the previous examples...."
   ]
  },
  {
   "cell_type": "code",
   "execution_count": 155,
   "metadata": {
    "collapsed": true
   },
   "outputs": [],
   "source": [
    "image = cv2.imread('py.jpg')\n",
    "gray = cv2.cvtColor(image,cv2.COLOR_BGR2GRAY)\n",
    "contours,_ = cv2.findContours(gray,cv2.RETR_TREE, cv2.CHAIN_APPROX_SIMPLE)\n",
    "#Lets pick up the largest one \n",
    "cnt = max(contours[1:],key = cv2.contourArea)\n",
    "cv2.drawContours(image,[cnt],-1,(255,0,0),3)\n",
    "# Drawing the largest contour\n",
    "cv2.imshow(\"Contours\",image)\n",
    "cv2.waitKey()\n",
    "cv2.destroyAllWindows()"
   ]
  },
  {
   "cell_type": "markdown",
   "metadata": {},
   "source": [
    "Notice the curves going inside.<br>\n",
    "Let's find the hull now...."
   ]
  },
  {
   "cell_type": "code",
   "execution_count": 156,
   "metadata": {
    "collapsed": true
   },
   "outputs": [],
   "source": [
    "image = cv2.imread('py.jpg')\n",
    "hull= cv2.convexHull(cnt)\n",
    "#Drawing the hull\n",
    "cv2.drawContours(image,[hull],-1,(255,0,0),3)\n",
    "# Drawing the largest contour\n",
    "cv2.imshow(\"Hull\",image)\n",
    "cv2.waitKey()\n",
    "cv2.destroyAllWindows()"
   ]
  },
  {
   "cell_type": "markdown",
   "metadata": {},
   "source": [
    "<b>Lets make a convex hull for our hand and see how it looks...."
   ]
  },
  {
   "cell_type": "code",
   "execution_count": 134,
   "metadata": {},
   "outputs": [],
   "source": [
    "cap = cv2.VideoCapture(0)\n",
    "\n",
    "while True:\n",
    "    #Recording the video\n",
    "    _,frame = cap.read()\n",
    "    #Making the hsv image\n",
    "    hsv = cv2.cvtColor(frame,cv2.COLOR_BGR2HSV)\n",
    "    #The color range for that red spool up there.....\n",
    "    lower = np.array([0, 10, 20])     #Lower range of HSV color\n",
    "    upper = np.array([30, 255, 255])  #Upper range of HSV color\n",
    "    #Generating the mask\n",
    "    mask = cv2.inRange(hsv,lower,upper)\n",
    "    #Some erossion and dialation\n",
    "    mask = cv2.erode(mask,None,iterations=2)\n",
    "    #Lets find the contour for the mask\n",
    "    \n",
    "    contours,_ = cv2.findContours(mask,cv2.RETR_TREE, cv2.CHAIN_APPROX_SIMPLE)\n",
    "    if len(contours) > 0:\n",
    "        for c in contours:\n",
    "            if cv2.contourArea(c) > 500:\n",
    "                #Getting the hull\n",
    "                hull = cv2.convexHull(c)\n",
    "                cv2.drawContours(frame,[hull],-1,(0,0,255),3)\n",
    "                cv2.drawContours(frame,[c],-1,(255,0,0),3)\n",
    "\n",
    "    #Lets see what we have got here\n",
    "    #cv2.imshow(\"Video\",frame)\n",
    "    cv2.imshow(\"Video2\",frame)\n",
    "    if cv2.waitKey(1) & 0xFF == ord('q'):  \n",
    "        break\n",
    "    #Press q to exit from camera\n",
    "    \n",
    "cap.release()  #Release the camera (necessary)\n",
    "cv2.destroyAllWindows()"
   ]
  },
  {
   "cell_type": "markdown",
   "metadata": {},
   "source": [
    "#### Now lets use the defects to play a game......\n",
    "<img src = './Notes_image/convex_hull.png'>\n",
    "In the image above, the blue point is the convexity defects. Now if we count all such defects, we can estimate the number of fingers held up. <b>Eg:</b> If we are holding up 5 fingers, the number of defects will be four.<br>\n",
    "<b>However,</b> note that not all defects are relevant. So lets make some constraints...\n",
    "- The depth of the defects have be greater than a certain value.....say 10000 pixels.\n",
    "- The angle of the defects should be <= 90 degrees\n",
    "<br>\n",
    "Now keeping these contraints in mind, the function that follows can count the number of fingers - 1 and if you are attending the workshop, at some point you'll need to copy them......so go ahead...."
   ]
  },
  {
   "cell_type": "code",
   "execution_count": 157,
   "metadata": {
    "collapsed": true
   },
   "outputs": [],
   "source": [
    "import math\n",
    "def calculateAngle(far, start, end):\n",
    "    \"\"\"Cosine rule\"\"\"\n",
    "    a = math.sqrt((end[0] - start[0])**2 + (end[1] - start[1])**2)\n",
    "    b = math.sqrt((far[0] - start[0])**2 + (far[1] - start[1])**2)\n",
    "    c = math.sqrt((end[0] - far[0])**2 + (end[1] - far[1])**2)\n",
    "    angle = math.acos((b**2 + c**2 - a**2) / (2*b*c))\n",
    "    return angle\n",
    "\n",
    "#This one is going to be of use....\n",
    "def countFingers(contour):\n",
    "    hull = cv2.convexHull(contour, returnPoints=False)\n",
    "    if len(hull) > 3:\n",
    "        defects = cv2.convexityDefects(contour, hull)\n",
    "        cnt = 0\n",
    "        if type(defects) != type(None):\n",
    "            for i in range(defects.shape[0]):\n",
    "                #Calculating the angle form the defects\n",
    "                s, e, f, d = defects[i, 0]\n",
    "                start = tuple(contour[s, 0])\n",
    "                end = tuple(contour[e, 0])\n",
    "                far = tuple(contour[f, 0])\n",
    "                angle = calculateAngle(far, start, end)\n",
    "                # Ignore the defects which are small and wide\n",
    "                # Probably not fingers\n",
    "                if d > 10000 and angle <= math.pi/2:\n",
    "                    cnt += 1\n",
    "        return (True, cnt)\n",
    "    return (False, 0)"
   ]
  },
  {
   "cell_type": "markdown",
   "metadata": {},
   "source": [
    "Now for the game....let's decide how it is to be played....<br>\n",
    "- We will first make an area where you need to get your hand to get started. This is to restricting the filter form detecting thing that are not hand.\n",
    "- Now, we'll make the contour for that area and select the largest one. Now we can make the hull and count the fingers. \n",
    "- Hold 2 fingers up. If you click down one finger, the dino jumps.....\n",
    "but how will it jump you ask? Simple:\n",
    "We'll use a library called the 'keyboard' which does some of the <b><i>keyboarding</i></b> stuff for you. So when the count goes down form 2 to 1, we'll use keyboard to hit \"Space\".<br>\n",
    "<br>\n",
    "So let's get on with it...."
   ]
  },
  {
   "cell_type": "code",
   "execution_count": 160,
   "metadata": {},
   "outputs": [],
   "source": [
    "import keyboard\n",
    "#For the area where your hand will be.....\n",
    "roi_top = 20\n",
    "roi_bottom = 300\n",
    "roi_right = 300\n",
    "roi_left = 600\n",
    "\n",
    "#Getting some video feed....\n",
    "cap = cv2.VideoCapture(0)\n",
    "\n",
    "while True:\n",
    "    _,frame = cap.read()\n",
    "    #Making the taking the region of interest\n",
    "    roi = frame[roi_top:roi_bottom, roi_right:roi_left]    \n",
    "    cv2.rectangle(frame,(roi_left,roi_top),(roi_right,roi_bottom),(0,255,0),2)\n",
    "    \n",
    "    #Converting the roi to hsv for the filtering......\n",
    "    hsv = cv2.cvtColor(roi,cv2.COLOR_BGR2HSV)\n",
    "\n",
    "    \n",
    "    lower = np.array([0, 20, 0])     #Lower range of HSV color\n",
    "    upper = np.array([30, 255, 255])  #Upper range of HSV color\n",
    "    \n",
    "    #Makign the mask\n",
    "    mask = cv2.inRange(hsv,lower,upper)\n",
    "    mask = cv2.dilate(mask,None)\n",
    "    #Getting the contours\n",
    "    contours,_ = cv2.findContours(mask,cv2.RETR_EXTERNAL,cv2.CHAIN_APPROX_SIMPLE)\n",
    "    #Making sure that the contours that we wanted are there.....\n",
    "    if len(contours)>0:\n",
    "        # Selecting the biggest contour there is available\n",
    "        c = max(contours,key=cv2.contourArea)\n",
    "        #Drawing the hull just for the sake of it......\n",
    "        hull = cv2.convexHull(c)\n",
    "        cv2.drawContours(roi,[hull],-1,(255,0,0),3)\n",
    "        #Counting the fingers\n",
    "        count = countFingers(c)\n",
    "        \n",
    "        #Our game logic\n",
    "        if count[1] < 2:\n",
    "            if count[1] == 0:\n",
    "                keyboard.press(\" \")\n",
    "    #Lets play the game shall we....\n",
    "    cv2.imshow(\"Video\",frame)\n",
    "    cv2.imshow(\"Mask\",mask)\n",
    "    if cv2.waitKey(1) & 0xFF == 27:\n",
    "        break\n",
    "cap.release()\n",
    "cv2.destroyAllWindows()"
   ]
  },
  {
   "cell_type": "markdown",
   "metadata": {},
   "source": [
    "## Foreground extraction\n",
    "Possibily the easiest method to remove the background. This gives us a mask for objects that are moving in the video.<br>\n",
    "The basic notion is to take the average of the previous frames and remove every thing that is not in it's place. One OpenCV function that does the heavy lifting for us is the MOG function.....which stands form <b>Mixture of Gaussian</b> (don't think too much about it)."
   ]
  },
  {
   "cell_type": "markdown",
   "metadata": {},
   "source": [
    "## Foreground extraction\n",
    "Possibily the easiest method to remove the background. This gives us a mask for objects that are moving in the video.<br>\n",
    "The basic notion is to take the average of the previous frames and remove every thing that is not in it's place. One OpenCV function that does the heavy lifting for us is the MOG function.....which stands form <b>Mixture of Gaussian</b> (don't think too much about it)."
   ]
  },
  {
   "cell_type": "code",
   "execution_count": 164,
   "metadata": {},
   "outputs": [],
   "source": [
    "#Let's get the stream first.....\n",
    "cap = cv2.VideoCapture(0)\n",
    "\n",
    "#Make an object for the background subtraction job......\n",
    "fgbg = cv2.createBackgroundSubtractorKNN()\n",
    "while True:\n",
    "    _,frame = cap.read()\n",
    "    #Making the mask\n",
    "    mask = fgbg.apply(frame) \n",
    "    #...and lets look at the good stuff\n",
    "    cv2.imshow('original',mask)\n",
    "    \n",
    "    if cv2.waitKey(1) & 0xFF == ord('q'):\n",
    "        break\n",
    "    \n",
    "cap.release()\n",
    "cv2.destroyAllWindows()"
   ]
  },
  {
   "cell_type": "markdown",
   "metadata": {
    "collapsed": true
   },
   "source": [
    "Now lets do something cool with this.......<br>\n",
    "Lets make moving things invisible....<br>\n",
    "The logic is simple.....capture the first frame...with nothing moving in the background.<br>\n",
    "Now, when something comes in the background, we have its mask....we can use it to do 2 things....<br>\n",
    "- Remove the moving part from the current frame\n",
    "- Replace it with some part of the first frame"
   ]
  },
  {
   "cell_type": "code",
   "execution_count": 182,
   "metadata": {},
   "outputs": [],
   "source": [
    "#Let's get the stream first.....\n",
    "cap = cv2.VideoCapture(0)\n",
    "#Get the first frame\n",
    "_,first_frame = cap.read()\n",
    "#Points to be painted\n",
    "points = []\n",
    "#Make an object for the background subtraction job......\n",
    "fgbg = cv2.createBackgroundSubtractorKNN()\n",
    "while True:\n",
    "    _,frame = cap.read()\n",
    "    #Making the mask\n",
    "    mask = fgbg.apply(frame)\n",
    "    #Dialation\n",
    "    mask = cv2.dilate(mask,None)\n",
    "    replace = cv2.bitwise_and(first_frame,first_frame,mask=mask)\n",
    "    #Now, remove the mask stuff\n",
    "    mask = cv2.bitwise_not(mask)\n",
    "    frame = cv2.bitwise_and(frame,frame,mask=mask)\n",
    "    frame = cv2.add(frame,replace)\n",
    "    \n",
    "    cv2.imshow('original',frame)\n",
    "                                                                                \n",
    "    if cv2.waitKey(1) & 0xFF == ord('q'):\n",
    "        break\n",
    "    \n",
    "cap.release()\n",
    "cv2.destroyAllWindows()"
   ]
  },
  {
   "cell_type": "code",
   "execution_count": null,
   "metadata": {
    "collapsed": true
   },
   "outputs": [],
   "source": []
  }
 ],
 "metadata": {
  "kernelspec": {
   "display_name": "Python 3",
   "language": "python",
   "name": "python3"
  },
  "language_info": {
   "codemirror_mode": {
    "name": "ipython",
    "version": 3
   },
   "file_extension": ".py",
   "mimetype": "text/x-python",
   "name": "python",
   "nbconvert_exporter": "python",
   "pygments_lexer": "ipython3",
   "version": "3.6.3"
  }
 },
 "nbformat": 4,
 "nbformat_minor": 2
}
